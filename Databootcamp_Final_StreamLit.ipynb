{
  "nbformat": 4,
  "nbformat_minor": 0,
  "metadata": {
    "colab": {
      "provenance": []
    },
    "kernelspec": {
      "name": "python3",
      "display_name": "Python 3"
    },
    "language_info": {
      "name": "python"
    }
  },
  "cells": [
    {
      "cell_type": "code",
      "execution_count": 1,
      "metadata": {
        "id": "M13p5UZAbGXx"
      },
      "outputs": [],
      "source": [
        "# Importing libraries\n",
        "import pandas as pd\n",
        "import numpy as np\n",
        "import matplotlib.pyplot as plt\n",
        "import seaborn as sns\n",
        "\n",
        "# Scikit-learn tools\n",
        "from sklearn.model_selection import train_test_split\n",
        "from sklearn.metrics import mean_squared_error, mean_absolute_error, r2_score\n",
        "from sklearn.preprocessing import StandardScaler, OneHotEncoder\n",
        "from sklearn.compose import make_column_transformer\n",
        "from sklearn.dummy import DummyRegressor\n",
        "from sklearn.pipeline import Pipeline\n",
        "from sklearn.linear_model import LinearRegression\n",
        "from sklearn.metrics import mean_squared_error, mean_absolute_error, r2_score"
      ]
    },
    {
      "cell_type": "code",
      "source": [
        "# Loading in the dataset\n",
        "spotify = pd.read_csv(\"spotify.csv\")\n",
        "\n",
        "# Dropping unnecessary columns\n",
        "spotify = spotify.drop(columns=['Unnamed: 0', 'song_title', 'artist', 'target'])\n",
        "\n",
        "# Defining the predictors and target\n",
        "X = spotify.drop(columns=['valence'])\n",
        "y = spotify['valence']\n",
        "\n",
        "# Splitting into train and test sets\n",
        "X_train, X_test, y_train, y_test = train_test_split(X, y, test_size=0.2, random_state=42)\n"
      ],
      "metadata": {
        "id": "mLzLBMYgbLgJ"
      },
      "execution_count": 2,
      "outputs": []
    },
    {
      "cell_type": "code",
      "source": [
        "# Define categorical and numeric columns\n",
        "cat_cols = ['mode', 'key']\n",
        "num_cols = ['energy', 'danceability', 'loudness', 'speechiness', 'acousticness']\n",
        "\n",
        "# Creating a column transformer\n",
        "transformer = make_column_transformer(\n",
        "    (OneHotEncoder(drop='first'), cat_cols),\n",
        "    (StandardScaler(), num_cols)\n",
        ")\n",
        "\n",
        "# Pipeline with transformer and regression model\n",
        "pipe = Pipeline([\n",
        "    ('preprocess', transformer),\n",
        "    ('model', LinearRegression())\n",
        "])\n",
        "\n",
        "# Fitting the model\n",
        "pipe.fit(X_train, y_train)\n",
        "\n",
        "# Predicting and evaluating\n",
        "y_pred = pipe.predict(X_test)\n",
        "mse = mean_squared_error(y_test, y_pred)\n",
        "rmse = np.sqrt(mse)\n",
        "\n",
        "\n",
        "#Outputting\n",
        "print(f\"Pipeline Linear Regression MSE: {mse:.6f}\")\n",
        "print(f\"Pipeline Linear Regression RMSE: {rmse:.6f}\")\n"
      ],
      "metadata": {
        "colab": {
          "base_uri": "https://localhost:8080/"
        },
        "id": "_ruS7M-pbPG-",
        "outputId": "d0bd1393-7943-4548-aa41-2199434d24ca"
      },
      "execution_count": 3,
      "outputs": [
        {
          "output_type": "stream",
          "name": "stdout",
          "text": [
            "Pipeline Linear Regression MSE: 0.046473\n",
            "Pipeline Linear Regression RMSE: 0.215576\n"
          ]
        }
      ]
    },
    {
      "cell_type": "code",
      "source": [],
      "metadata": {
        "id": "gpHnktzJbUBb"
      },
      "execution_count": null,
      "outputs": []
    },
    {
      "cell_type": "markdown",
      "source": [
        "# STREAMLIT APP"
      ],
      "metadata": {
        "id": "5SthZ326bWgY"
      }
    },
    {
      "cell_type": "code",
      "source": [
        "!pip install -q streamlit\n",
        "!npm install -g localtunnel\n",
        "import joblib\n",
        "\n",
        "# Saving the trained pipeline\n",
        "joblib.dump(pipe, 'linear_valence_model.pkl')\n"
      ],
      "metadata": {
        "colab": {
          "base_uri": "https://localhost:8080/"
        },
        "id": "Y9KHVOK9bZAS",
        "outputId": "7b004a4a-8335-42b8-f59d-2d72c4a78ccc"
      },
      "execution_count": 4,
      "outputs": [
        {
          "output_type": "stream",
          "name": "stdout",
          "text": [
            "\u001b[2K     \u001b[90m━━━━━━━━━━━━━━━━━━━━━━━━━━━━━━━━━━━━━━━━\u001b[0m \u001b[32m44.3/44.3 kB\u001b[0m \u001b[31m2.8 MB/s\u001b[0m eta \u001b[36m0:00:00\u001b[0m\n",
            "\u001b[2K   \u001b[90m━━━━━━━━━━━━━━━━━━━━━━━━━━━━━━━━━━━━━━━━\u001b[0m \u001b[32m9.9/9.9 MB\u001b[0m \u001b[31m99.7 MB/s\u001b[0m eta \u001b[36m0:00:00\u001b[0m\n",
            "\u001b[2K   \u001b[90m━━━━━━━━━━━━━━━━━━━━━━━━━━━━━━━━━━━━━━━━\u001b[0m \u001b[32m6.9/6.9 MB\u001b[0m \u001b[31m103.0 MB/s\u001b[0m eta \u001b[36m0:00:00\u001b[0m\n",
            "\u001b[2K   \u001b[90m━━━━━━━━━━━━━━━━━━━━━━━━━━━━━━━━━━━━━━━━\u001b[0m \u001b[32m79.1/79.1 kB\u001b[0m \u001b[31m5.2 MB/s\u001b[0m eta \u001b[36m0:00:00\u001b[0m\n",
            "\u001b[?25h\u001b[1G\u001b[0K⠙\u001b[1G\u001b[0K⠹\u001b[1G\u001b[0K⠸\u001b[1G\u001b[0K⠼\u001b[1G\u001b[0K⠴\u001b[1G\u001b[0K⠦\u001b[1G\u001b[0K⠧\u001b[1G\u001b[0K⠇\u001b[1G\u001b[0K⠏\u001b[1G\u001b[0K⠋\u001b[1G\u001b[0K⠙\u001b[1G\u001b[0K⠹\u001b[1G\u001b[0K⠸\u001b[1G\u001b[0K⠼\u001b[1G\u001b[0K⠴\u001b[1G\u001b[0K⠦\u001b[1G\u001b[0K⠧\u001b[1G\u001b[0K⠇\u001b[1G\u001b[0K⠏\u001b[1G\u001b[0K⠋\u001b[1G\u001b[0K\n",
            "added 22 packages in 2s\n",
            "\u001b[1G\u001b[0K⠋\u001b[1G\u001b[0K\n",
            "\u001b[1G\u001b[0K⠋\u001b[1G\u001b[0K3 packages are looking for funding\n",
            "\u001b[1G\u001b[0K⠋\u001b[1G\u001b[0K  run `npm fund` for details\n",
            "\u001b[1G\u001b[0K⠋\u001b[1G\u001b[0K"
          ]
        },
        {
          "output_type": "execute_result",
          "data": {
            "text/plain": [
              "['linear_valence_model.pkl']"
            ]
          },
          "metadata": {},
          "execution_count": 4
        }
      ]
    },
    {
      "cell_type": "code",
      "source": [
        "%%writefile app.py\n",
        "import streamlit as st\n",
        "import pandas as pd\n",
        "import joblib\n",
        "\n",
        "# Loading the trained model\n",
        "model = joblib.load('linear_valence_model.pkl')\n",
        "\n",
        "# Streamlit app\n",
        "st.title(\"🎵 Spotify Valence Predictor\")\n",
        "st.markdown(\"Predict the emotional valence of a song based on its audio features.\")\n",
        "\n",
        "# Inputting fields for all required features\n",
        "danceability = st.slider(\"Danceability\", 0.0, 1.0, 0.5)\n",
        "energy = st.slider(\"Energy\", 0.0, 1.0, 0.5)\n",
        "acousticness = st.slider(\"Acousticness\", 0.0, 1.0, 0.5)\n",
        "speechiness = st.slider(\"Speechiness\", 0.0, 1.0, 0.5)  # Added\n",
        "loudness = st.slider(\"Loudness (dB)\", -60.0, 0.0, -20.0)  # Added\n",
        "tempo = st.slider(\"Tempo (BPM)\", 40.0, 220.0, 120.0)\n",
        "key = st.selectbox(\"Key (0=C, ..., 11=B)\", list(range(12)))\n",
        "mode = st.selectbox(\"Mode (0=Minor, 1=Major)\", [0, 1])\n",
        "\n",
        "# Creating input DataFrame with all expected features\n",
        "input_data = pd.DataFrame({\n",
        "    'danceability': [danceability],\n",
        "    'energy': [energy],\n",
        "    'acousticness': [acousticness],\n",
        "    'speechiness': [speechiness],       # Match training features\n",
        "    'loudness': [loudness],\n",
        "    'tempo': [tempo],\n",
        "    'key': [key],\n",
        "    'mode': [mode]\n",
        "})\n",
        "\n",
        "# Predicting valence\n",
        "if st.button(\"Predict Valence\"):\n",
        "    prediction = model.predict(input_data)[0]\n",
        "    st.success(f\"Predicted Valence: {prediction:.3f}\")\n"
      ],
      "metadata": {
        "colab": {
          "base_uri": "https://localhost:8080/"
        },
        "id": "RoBIeVm_beQx",
        "outputId": "d26a7fe9-1e31-488a-8bf7-61f69e21d86b"
      },
      "execution_count": 5,
      "outputs": [
        {
          "output_type": "stream",
          "name": "stdout",
          "text": [
            "Writing app.py\n"
          ]
        }
      ]
    },
    {
      "cell_type": "code",
      "source": [
        "!streamlit run app.py &>/content/logs.txt &\n"
      ],
      "metadata": {
        "id": "rNUVwtqIbflt"
      },
      "execution_count": 6,
      "outputs": []
    },
    {
      "cell_type": "code",
      "source": [
        "!npx localtunnel --port 8501"
      ],
      "metadata": {
        "colab": {
          "base_uri": "https://localhost:8080/"
        },
        "id": "basQfdT0bhFv",
        "outputId": "937a5112-9658-471b-979e-a5994b22df5b"
      },
      "execution_count": 8,
      "outputs": [
        {
          "output_type": "stream",
          "name": "stdout",
          "text": [
            "\u001b[1G\u001b[0K⠙\u001b[1G\u001b[0K⠹\u001b[1G\u001b[0K⠸\u001b[1G\u001b[0K⠼\u001b[1G\u001b[0K⠴\u001b[1G\u001b[0K⠦\u001b[1G\u001b[0Kyour url is: https://heavy-rooms-run.loca.lt\n",
            "^C\n"
          ]
        }
      ]
    },
    {
      "cell_type": "code",
      "source": [
        "import urllib.request\n",
        "print(\"Your public IP:\", urllib.request.urlopen('https://ipv4.icanhazip.com').read().decode('utf8').strip())\n"
      ],
      "metadata": {
        "colab": {
          "base_uri": "https://localhost:8080/"
        },
        "id": "7xAVW209bi35",
        "outputId": "edb6f6d5-5534-486f-d7a1-e6c40f5aaedc"
      },
      "execution_count": 7,
      "outputs": [
        {
          "output_type": "stream",
          "name": "stdout",
          "text": [
            "Your public IP: 35.194.93.181\n"
          ]
        }
      ]
    },
    {
      "cell_type": "code",
      "source": [],
      "metadata": {
        "id": "08TG3mnIbkSF"
      },
      "execution_count": null,
      "outputs": []
    }
  ]
}